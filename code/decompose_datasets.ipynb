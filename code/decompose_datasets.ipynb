{
 "cells": [
  {
   "attachments": {},
   "cell_type": "markdown",
   "metadata": {},
   "source": [
    "Project: 2\n",
    "\n",
    "Group: 3\n",
    "\n",
    "Group Members:\n",
    " - Muhammad Raafey Tariq (231806)\n",
    " - Farrukh Ahmed (230614)\n",
    " - Amirreza Khamehchin Khiabani (230891)\n",
    " - Aymane Hachcham (236392)"
   ]
  },
  {
   "cell_type": "code",
   "execution_count": 2,
   "metadata": {},
   "outputs": [],
   "source": [
    "from read_data import process_data\n",
    "from decompose_ts import *"
   ]
  },
  {
   "cell_type": "code",
   "execution_count": 3,
   "metadata": {},
   "outputs": [],
   "source": [
    "data = process_data()"
   ]
  },
  {
   "cell_type": "code",
   "execution_count": 8,
   "metadata": {},
   "outputs": [],
   "source": [
    "import numpy as np\n",
    "\n",
    "def decompose_ts_dataset(data, data_set):\n",
    "    dat = data[data_set][\"dat\"]\n",
    "    hdr = data[data_set][\"hdr\"]\n",
    "    channel_names = hdr.channel_names\n",
    "    results = {}\n",
    "    for channel in channel_names:\n",
    "        result = decompose_ts(dat[[\"time\", channel]], channel)\n",
    "        results[channel] = result\n",
    "        plot_decomposed_ts(result, data_set, channel)\n",
    "    \n",
    "    return results\n",
    "\n",
    "\n",
    "def decompose_ts(df, channel_name):\n",
    "    df.set_index('time')\n",
    "    result = seasonal_decompose(df[channel_name], model='additive', extrapolate_trend='freq')\n",
    "    return result\n",
    "\n",
    "\n",
    "def plot_decomposed_ts(result, data_set, channel):\n",
    "    result.plot()\n",
    "    plt.savefig(os.path.join(\"Figures\", data_set, data_set + \"_\" + channel + \"_TS_decomp.pdf\"), dpi=180, bbox_inches='tight')\n",
    "    plt.show()\n",
    "    "
   ]
  },
  {
   "cell_type": "code",
   "execution_count": 17,
   "metadata": {},
   "outputs": [
    {
     "data": {
      "text/plain": [
       "datetime.timedelta(seconds=1, microseconds=1300)"
      ]
     },
     "execution_count": 17,
     "metadata": {},
     "output_type": "execute_result"
    }
   ],
   "source": [
    "from datetime import timedelta\n",
    "timedelta(seconds=1.0013)"
   ]
  },
  {
   "cell_type": "code",
   "execution_count": 21,
   "metadata": {},
   "outputs": [],
   "source": [
    "from datetime import datetime, timedelta\n",
    "\n",
    "start_time = datetime(2023, 6, 25, 0, 0, 0)  # Define the starting datetime\n",
    "time_step = timedelta(seconds=1/20000)  # Define the time step as 1 second\n",
    "\n",
    "num_rows = 10  # Number of rows in the column\n",
    "\n",
    "# Generate the datetime column\n",
    "datetime_column = [start_time + i * time_step for i in range(len(dat))]"
   ]
  },
  {
   "cell_type": "code",
   "execution_count": 27,
   "metadata": {},
   "outputs": [
    {
     "data": {
      "text/html": [
       "<div>\n",
       "<style scoped>\n",
       "    .dataframe tbody tr th:only-of-type {\n",
       "        vertical-align: middle;\n",
       "    }\n",
       "\n",
       "    .dataframe tbody tr th {\n",
       "        vertical-align: top;\n",
       "    }\n",
       "\n",
       "    .dataframe thead th {\n",
       "        text-align: right;\n",
       "    }\n",
       "</style>\n",
       "<table border=\"1\" class=\"dataframe\">\n",
       "  <thead>\n",
       "    <tr style=\"text-align: right;\">\n",
       "      <th></th>\n",
       "      <th>CH1_Moment</th>\n",
       "    </tr>\n",
       "    <tr>\n",
       "      <th>time</th>\n",
       "      <th></th>\n",
       "    </tr>\n",
       "  </thead>\n",
       "  <tbody>\n",
       "    <tr>\n",
       "      <th>2023-06-25 00:00:00.000000</th>\n",
       "      <td>-25.056</td>\n",
       "    </tr>\n",
       "    <tr>\n",
       "      <th>2023-06-25 00:00:00.000050</th>\n",
       "      <td>-33.048</td>\n",
       "    </tr>\n",
       "    <tr>\n",
       "      <th>2023-06-25 00:00:00.000100</th>\n",
       "      <td>-26.712</td>\n",
       "    </tr>\n",
       "    <tr>\n",
       "      <th>2023-06-25 00:00:00.000150</th>\n",
       "      <td>-11.952</td>\n",
       "    </tr>\n",
       "    <tr>\n",
       "      <th>2023-06-25 00:00:00.000200</th>\n",
       "      <td>0.360</td>\n",
       "    </tr>\n",
       "  </tbody>\n",
       "</table>\n",
       "</div>"
      ],
      "text/plain": [
       "                            CH1_Moment\n",
       "time                                  \n",
       "2023-06-25 00:00:00.000000     -25.056\n",
       "2023-06-25 00:00:00.000050     -33.048\n",
       "2023-06-25 00:00:00.000100     -26.712\n",
       "2023-06-25 00:00:00.000150     -11.952\n",
       "2023-06-25 00:00:00.000200       0.360"
      ]
     },
     "execution_count": 27,
     "metadata": {},
     "output_type": "execute_result"
    }
   ],
   "source": [
    "df.head()"
   ]
  },
  {
   "cell_type": "code",
   "execution_count": 28,
   "metadata": {},
   "outputs": [
    {
     "ename": "ValueError",
     "evalue": "freq U not understood. Please report if you think this is in error.",
     "output_type": "error",
     "traceback": [
      "\u001b[1;31m---------------------------------------------------------------------------\u001b[0m",
      "\u001b[1;31mValueError\u001b[0m                                Traceback (most recent call last)",
      "\u001b[1;32mc:\\Users\\Raafe\\Desktop\\TU Dortmund\\Semester 5\\Case Studies\\Case-Studies---Project-2\\code\\decompose_datasets.ipynb Cell 8\u001b[0m in \u001b[0;36m9\n\u001b[0;32m      <a href='vscode-notebook-cell:/c%3A/Users/Raafe/Desktop/TU%20Dortmund/Semester%205/Case%20Studies/Case-Studies---Project-2/code/decompose_datasets.ipynb#W6sZmlsZQ%3D%3D?line=6'>7</a>\u001b[0m df \u001b[39m=\u001b[39m df\u001b[39m.\u001b[39mset_index(\u001b[39m'\u001b[39m\u001b[39mtime\u001b[39m\u001b[39m'\u001b[39m)\n\u001b[0;32m      <a href='vscode-notebook-cell:/c%3A/Users/Raafe/Desktop/TU%20Dortmund/Semester%205/Case%20Studies/Case-Studies---Project-2/code/decompose_datasets.ipynb#W6sZmlsZQ%3D%3D?line=7'>8</a>\u001b[0m df\u001b[39m.\u001b[39mhead()\n\u001b[1;32m----> <a href='vscode-notebook-cell:/c%3A/Users/Raafe/Desktop/TU%20Dortmund/Semester%205/Case%20Studies/Case-Studies---Project-2/code/decompose_datasets.ipynb#W6sZmlsZQ%3D%3D?line=8'>9</a>\u001b[0m result \u001b[39m=\u001b[39m seasonal_decompose(df[channel], model\u001b[39m=\u001b[39;49m\u001b[39m'\u001b[39;49m\u001b[39madditive\u001b[39;49m\u001b[39m'\u001b[39;49m, extrapolate_trend\u001b[39m=\u001b[39;49m\u001b[39m'\u001b[39;49m\u001b[39mfreq\u001b[39;49m\u001b[39m'\u001b[39;49m)\n",
      "File \u001b[1;32mc:\\Users\\Raafe\\AppData\\Local\\Programs\\Python\\Python38\\lib\\site-packages\\statsmodels\\tsa\\seasonal.py:163\u001b[0m, in \u001b[0;36mseasonal_decompose\u001b[1;34m(x, model, filt, period, two_sided, extrapolate_trend)\u001b[0m\n\u001b[0;32m    161\u001b[0m \u001b[39mif\u001b[39;00m period \u001b[39mis\u001b[39;00m \u001b[39mNone\u001b[39;00m:\n\u001b[0;32m    162\u001b[0m     \u001b[39mif\u001b[39;00m pfreq \u001b[39mis\u001b[39;00m \u001b[39mnot\u001b[39;00m \u001b[39mNone\u001b[39;00m:\n\u001b[1;32m--> 163\u001b[0m         pfreq \u001b[39m=\u001b[39m freq_to_period(pfreq)\n\u001b[0;32m    164\u001b[0m         period \u001b[39m=\u001b[39m pfreq\n\u001b[0;32m    165\u001b[0m     \u001b[39melse\u001b[39;00m:\n",
      "File \u001b[1;32mc:\\Users\\Raafe\\AppData\\Local\\Programs\\Python\\Python38\\lib\\site-packages\\statsmodels\\tsa\\tsatools.py:822\u001b[0m, in \u001b[0;36mfreq_to_period\u001b[1;34m(freq)\u001b[0m\n\u001b[0;32m    820\u001b[0m     \u001b[39mreturn\u001b[39;00m \u001b[39m24\u001b[39m\n\u001b[0;32m    821\u001b[0m \u001b[39melse\u001b[39;00m:  \u001b[39m# pragma : no cover\u001b[39;00m\n\u001b[1;32m--> 822\u001b[0m     \u001b[39mraise\u001b[39;00m \u001b[39mValueError\u001b[39;00m(\n\u001b[0;32m    823\u001b[0m         \u001b[39m\"\u001b[39m\u001b[39mfreq \u001b[39m\u001b[39m{}\u001b[39;00m\u001b[39m not understood. Please report if you \u001b[39m\u001b[39m\"\u001b[39m\n\u001b[0;32m    824\u001b[0m         \u001b[39m\"\u001b[39m\u001b[39mthink this is in error.\u001b[39m\u001b[39m\"\u001b[39m\u001b[39m.\u001b[39mformat(freq)\n\u001b[0;32m    825\u001b[0m     )\n",
      "\u001b[1;31mValueError\u001b[0m: freq U not understood. Please report if you think this is in error."
     ]
    }
   ],
   "source": [
    "data_set = 'V2_00001-1'\n",
    "dat = data[data_set][\"dat\"]\n",
    "hdr = data[data_set][\"hdr\"]\n",
    "channel = hdr.channel_names[0]\n",
    "df = dat[[\"time\", channel]]\n",
    "df['time'] = datetime_column\n",
    "df = df.set_index('time')\n",
    "df.head()\n",
    "result = seasonal_decompose(df[channel], model='additive', extrapolate_trend='freq')"
   ]
  },
  {
   "cell_type": "code",
   "execution_count": 9,
   "metadata": {},
   "outputs": [
    {
     "ename": "ValueError",
     "evalue": "You must specify a period or x must be a pandas object with a PeriodIndex or a DatetimeIndex with a freq not set to None",
     "output_type": "error",
     "traceback": [
      "\u001b[1;31m---------------------------------------------------------------------------\u001b[0m",
      "\u001b[1;31mValueError\u001b[0m                                Traceback (most recent call last)",
      "\u001b[1;32mc:\\Users\\Raafe\\Desktop\\TU Dortmund\\Semester 5\\Case Studies\\Case-Studies---Project-2\\code\\decompose_datasets.ipynb Cell 5\u001b[0m in \u001b[0;36m1\n\u001b[1;32m----> <a href='vscode-notebook-cell:/c%3A/Users/Raafe/Desktop/TU%20Dortmund/Semester%205/Case%20Studies/Case-Studies---Project-2/code/decompose_datasets.ipynb#W2sZmlsZQ%3D%3D?line=0'>1</a>\u001b[0m v2_result \u001b[39m=\u001b[39m decompose_ts_dataset(data, \u001b[39m'\u001b[39;49m\u001b[39mV2_00001-1\u001b[39;49m\u001b[39m'\u001b[39;49m)\n",
      "\u001b[1;32mc:\\Users\\Raafe\\Desktop\\TU Dortmund\\Semester 5\\Case Studies\\Case-Studies---Project-2\\code\\decompose_datasets.ipynb Cell 5\u001b[0m in \u001b[0;36m9\n\u001b[0;32m      <a href='vscode-notebook-cell:/c%3A/Users/Raafe/Desktop/TU%20Dortmund/Semester%205/Case%20Studies/Case-Studies---Project-2/code/decompose_datasets.ipynb#W2sZmlsZQ%3D%3D?line=6'>7</a>\u001b[0m results \u001b[39m=\u001b[39m {}\n\u001b[0;32m      <a href='vscode-notebook-cell:/c%3A/Users/Raafe/Desktop/TU%20Dortmund/Semester%205/Case%20Studies/Case-Studies---Project-2/code/decompose_datasets.ipynb#W2sZmlsZQ%3D%3D?line=7'>8</a>\u001b[0m \u001b[39mfor\u001b[39;00m channel \u001b[39min\u001b[39;00m channel_names:\n\u001b[1;32m----> <a href='vscode-notebook-cell:/c%3A/Users/Raafe/Desktop/TU%20Dortmund/Semester%205/Case%20Studies/Case-Studies---Project-2/code/decompose_datasets.ipynb#W2sZmlsZQ%3D%3D?line=8'>9</a>\u001b[0m     result \u001b[39m=\u001b[39m decompose_ts(dat[[\u001b[39m\"\u001b[39;49m\u001b[39mtime\u001b[39;49m\u001b[39m\"\u001b[39;49m, channel]], channel)\n\u001b[0;32m     <a href='vscode-notebook-cell:/c%3A/Users/Raafe/Desktop/TU%20Dortmund/Semester%205/Case%20Studies/Case-Studies---Project-2/code/decompose_datasets.ipynb#W2sZmlsZQ%3D%3D?line=9'>10</a>\u001b[0m     results[channel] \u001b[39m=\u001b[39m result\n\u001b[0;32m     <a href='vscode-notebook-cell:/c%3A/Users/Raafe/Desktop/TU%20Dortmund/Semester%205/Case%20Studies/Case-Studies---Project-2/code/decompose_datasets.ipynb#W2sZmlsZQ%3D%3D?line=10'>11</a>\u001b[0m     plot_decomposed_ts(result, data_set, channel)\n",
      "\u001b[1;32mc:\\Users\\Raafe\\Desktop\\TU Dortmund\\Semester 5\\Case Studies\\Case-Studies---Project-2\\code\\decompose_datasets.ipynb Cell 5\u001b[0m in \u001b[0;36m1\n\u001b[0;32m     <a href='vscode-notebook-cell:/c%3A/Users/Raafe/Desktop/TU%20Dortmund/Semester%205/Case%20Studies/Case-Studies---Project-2/code/decompose_datasets.ipynb#W2sZmlsZQ%3D%3D?line=15'>16</a>\u001b[0m \u001b[39mdef\u001b[39;00m \u001b[39mdecompose_ts\u001b[39m(df, channel_name):\n\u001b[0;32m     <a href='vscode-notebook-cell:/c%3A/Users/Raafe/Desktop/TU%20Dortmund/Semester%205/Case%20Studies/Case-Studies---Project-2/code/decompose_datasets.ipynb#W2sZmlsZQ%3D%3D?line=16'>17</a>\u001b[0m     df\u001b[39m.\u001b[39mset_index(\u001b[39m'\u001b[39m\u001b[39mtime\u001b[39m\u001b[39m'\u001b[39m)\n\u001b[1;32m---> <a href='vscode-notebook-cell:/c%3A/Users/Raafe/Desktop/TU%20Dortmund/Semester%205/Case%20Studies/Case-Studies---Project-2/code/decompose_datasets.ipynb#W2sZmlsZQ%3D%3D?line=17'>18</a>\u001b[0m     result \u001b[39m=\u001b[39m seasonal_decompose(df[channel_name], model\u001b[39m=\u001b[39;49m\u001b[39m'\u001b[39;49m\u001b[39madditive\u001b[39;49m\u001b[39m'\u001b[39;49m, extrapolate_trend\u001b[39m=\u001b[39;49m\u001b[39m'\u001b[39;49m\u001b[39mfreq\u001b[39;49m\u001b[39m'\u001b[39;49m)\n\u001b[0;32m     <a href='vscode-notebook-cell:/c%3A/Users/Raafe/Desktop/TU%20Dortmund/Semester%205/Case%20Studies/Case-Studies---Project-2/code/decompose_datasets.ipynb#W2sZmlsZQ%3D%3D?line=18'>19</a>\u001b[0m     \u001b[39mreturn\u001b[39;00m result\n",
      "File \u001b[1;32mc:\\Users\\Raafe\\AppData\\Local\\Programs\\Python\\Python38\\lib\\site-packages\\statsmodels\\tsa\\seasonal.py:166\u001b[0m, in \u001b[0;36mseasonal_decompose\u001b[1;34m(x, model, filt, period, two_sided, extrapolate_trend)\u001b[0m\n\u001b[0;32m    164\u001b[0m         period \u001b[39m=\u001b[39m pfreq\n\u001b[0;32m    165\u001b[0m     \u001b[39melse\u001b[39;00m:\n\u001b[1;32m--> 166\u001b[0m         \u001b[39mraise\u001b[39;00m \u001b[39mValueError\u001b[39;00m(\n\u001b[0;32m    167\u001b[0m             \u001b[39m\"\u001b[39m\u001b[39mYou must specify a period or x must be a pandas object with \u001b[39m\u001b[39m\"\u001b[39m\n\u001b[0;32m    168\u001b[0m             \u001b[39m\"\u001b[39m\u001b[39ma PeriodIndex or a DatetimeIndex with a freq not set to None\u001b[39m\u001b[39m\"\u001b[39m\n\u001b[0;32m    169\u001b[0m         )\n\u001b[0;32m    170\u001b[0m \u001b[39mif\u001b[39;00m x\u001b[39m.\u001b[39mshape[\u001b[39m0\u001b[39m] \u001b[39m<\u001b[39m \u001b[39m2\u001b[39m \u001b[39m*\u001b[39m pfreq:\n\u001b[0;32m    171\u001b[0m     \u001b[39mraise\u001b[39;00m \u001b[39mValueError\u001b[39;00m(\n\u001b[0;32m    172\u001b[0m         \u001b[39mf\u001b[39m\u001b[39m\"\u001b[39m\u001b[39mx must have 2 complete cycles requires \u001b[39m\u001b[39m{\u001b[39;00m\u001b[39m2\u001b[39m \u001b[39m*\u001b[39m pfreq\u001b[39m}\u001b[39;00m\u001b[39m \u001b[39m\u001b[39m\"\u001b[39m\n\u001b[0;32m    173\u001b[0m         \u001b[39mf\u001b[39m\u001b[39m\"\u001b[39m\u001b[39mobservations. x only has \u001b[39m\u001b[39m{\u001b[39;00mx\u001b[39m.\u001b[39mshape[\u001b[39m0\u001b[39m]\u001b[39m}\u001b[39;00m\u001b[39m observation(s)\u001b[39m\u001b[39m\"\u001b[39m\n\u001b[0;32m    174\u001b[0m     )\n",
      "\u001b[1;31mValueError\u001b[0m: You must specify a period or x must be a pandas object with a PeriodIndex or a DatetimeIndex with a freq not set to None"
     ]
    }
   ],
   "source": [
    "v2_result = decompose_ts_dataset(data, 'V2_00001-1')"
   ]
  }
 ],
 "metadata": {
  "kernelspec": {
   "display_name": "Python 3",
   "language": "python",
   "name": "python3"
  },
  "language_info": {
   "codemirror_mode": {
    "name": "ipython",
    "version": 3
   },
   "file_extension": ".py",
   "mimetype": "text/x-python",
   "name": "python",
   "nbconvert_exporter": "python",
   "pygments_lexer": "ipython3",
   "version": "3.8.5"
  },
  "orig_nbformat": 4
 },
 "nbformat": 4,
 "nbformat_minor": 2
}
