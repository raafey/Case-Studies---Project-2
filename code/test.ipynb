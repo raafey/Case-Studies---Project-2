{
 "cells": [
  {
   "cell_type": "code",
   "execution_count": 1,
   "metadata": {},
   "outputs": [],
   "source": [
    "import os\n",
    "from read_data import *"
   ]
  },
  {
   "cell_type": "code",
   "execution_count": 2,
   "metadata": {},
   "outputs": [],
   "source": [
    "processed_data_dir_name = \"processed_data\"\n",
    "original_data_dir_name = \"..\\\\data\"\n",
    "dat_file_names = [\"V2_00001-1.DAT\", \"V2_00001.dat\", \"V10_00001.dat\"]\n",
    "hdr_file_names = [\"V2_00001-1.HDR\", \"V2_00001.hdr\", \"V10_00001.hdr\"]\n",
    "dat_file_paths = [os.path.join(original_data_dir_name, name) for name in dat_file_names]\n",
    "hdr_file_paths = [os.path.join(original_data_dir_name, name) for name in hdr_file_names]\n",
    "csv_dat_file_paths = [os.path.join(processed_data_dir_name, name.replace(\"dat\", \"csv\") if \"dat\" in name else name.replace(\"DAT\", \"csv\")) for name in dat_file_names]\n",
    "csv_hdr_file_paths = [os.path.join(processed_data_dir_name, name.replace(\"hdr\", \"csv\") if \"hdr\" in name else name.replace(\"HDR\", \"csv\")) for name in hdr_file_names]"
   ]
  },
  {
   "cell_type": "code",
   "execution_count": 3,
   "metadata": {},
   "outputs": [],
   "source": [
    "if not os.path.isdir(processed_data_dir_name):\n",
    "    os.mkdir(processed_data_dir_name)"
   ]
  },
  {
   "cell_type": "code",
   "execution_count": 40,
   "metadata": {},
   "outputs": [],
   "source": [
    "file=open(dat_file_paths[0],\"rb\")\n",
    "lines = file.readlines()\n",
    "data = []\n",
    "for line in lines:\n",
    "    data.append(list(line))\n",
    "file.close()"
   ]
  },
  {
   "cell_type": "code",
   "execution_count": 43,
   "metadata": {},
   "outputs": [
    {
     "ename": "ValueError",
     "evalue": "setting an array element with a sequence. The requested array has an inhomogeneous shape after 1 dimensions. The detected shape was (1380981,) + inhomogeneous part.",
     "output_type": "error",
     "traceback": [
      "\u001b[1;31m---------------------------------------------------------------------------\u001b[0m",
      "\u001b[1;31mValueError\u001b[0m                                Traceback (most recent call last)",
      "\u001b[1;32mc:\\Users\\Raafe\\Desktop\\TU Dortmund\\Semester 5\\Case Studies\\Case-Studies---Project-2\\code\\test.ipynb Cell 5\u001b[0m in \u001b[0;36m2\n\u001b[0;32m      <a href='vscode-notebook-cell:/c%3A/Users/Raafe/Desktop/TU%20Dortmund/Semester%205/Case%20Studies/Case-Studies---Project-2/code/test.ipynb#W6sZmlsZQ%3D%3D?line=0'>1</a>\u001b[0m \u001b[39mimport\u001b[39;00m \u001b[39mnumpy\u001b[39;00m \u001b[39mas\u001b[39;00m \u001b[39mnp\u001b[39;00m\n\u001b[1;32m----> <a href='vscode-notebook-cell:/c%3A/Users/Raafe/Desktop/TU%20Dortmund/Semester%205/Case%20Studies/Case-Studies---Project-2/code/test.ipynb#W6sZmlsZQ%3D%3D?line=1'>2</a>\u001b[0m data \u001b[39m=\u001b[39m np\u001b[39m.\u001b[39;49marray(data)\n",
      "\u001b[1;31mValueError\u001b[0m: setting an array element with a sequence. The requested array has an inhomogeneous shape after 1 dimensions. The detected shape was (1380981,) + inhomogeneous part."
     ]
    }
   ],
   "source": [
    "import numpy as np"
   ]
  }
 ],
 "metadata": {
  "kernelspec": {
   "display_name": "Python 3",
   "language": "python",
   "name": "python3"
  },
  "language_info": {
   "codemirror_mode": {
    "name": "ipython",
    "version": 3
   },
   "file_extension": ".py",
   "mimetype": "text/x-python",
   "name": "python",
   "nbconvert_exporter": "python",
   "pygments_lexer": "ipython3",
   "version": "3.8.5"
  },
  "orig_nbformat": 4
 },
 "nbformat": 4,
 "nbformat_minor": 2
}
